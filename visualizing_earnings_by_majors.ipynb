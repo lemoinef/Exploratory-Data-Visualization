{
 "cells": [
  {
   "cell_type": "markdown",
   "metadata": {},
   "source": [
    "# Visualizing Earnings By College Majors\n",
    "In this guided project, we'll explore how using the pandas plotting functionality along with the Jupyter notebook interface allows us to explore data quickly using visualizations. "
   ]
  },
  {
   "cell_type": "markdown",
   "metadata": {},
   "source": [
    "We'll be working with a dataset on the job outcomes of students who graduated from college between 2010 and 2012. The original data on job outcomes was released by American Community Survey, which conducts surveys and aggregates the data. FiveThirtyEight cleaned the dataset and released it on their Github repo.\n",
    "\n",
    "Each row in the dataset represents a different major in college and contains information on gender diversity, employment rates, median salaries, and more. Here are some of the columns in the dataset:\n",
    "\n",
    "- Rank - Rank by median earnings (the dataset is ordered by this column).\n",
    "- Major_code - Major code.\n",
    "- Major - Major description.\n",
    "- Major_category - Category of major.\n",
    "- Total - Total number of people with major.\n",
    "- Sample_size - Sample size (unweighted) of full-time.\n",
    "- Men - Male graduates.\n",
    "- Women - Female graduates.\n",
    "- ShareWomen - Women as share of total.\n",
    "- Employed - Number employed.\n",
    "- Median - Median salary of full-time, year-round workers.\n",
    "- Low_wage_jobs - Number in low-wage service jobs.\n",
    "- Full_time - Number employed 35 hours or more.\n",
    "- Part_time - Number employed less than 36 hours.\n",
    "\n",
    "Using visualizations, we can start to explore questions from the dataset like:\n",
    "\n",
    "- Do students in more popular majors make more money?\n",
    "    - Using scatter plots\n",
    "- How many majors are predominantly male? Predominantly female?\n",
    "    - Using histograms\n",
    "- Which category of majors have the most students?\n",
    "    - Using bar plots\n",
    "\n",
    "We'll explore how to do these and more while primarily working in pandas. Before we start creating data visualizations, let's import the libraries we need and remove rows contain null values."
   ]
  },
  {
   "cell_type": "code",
   "execution_count": null,
   "metadata": {
    "collapsed": true
   },
   "outputs": [],
   "source": [
    "import pandas as pd\n",
    "import matplotlib.pyplot as plt\n",
    "% matplotlib inline\n",
    "recent_grads = pd.read_csv('recent-grads.csv')\n",
    "print(recent_grads.iloc[0])\n",
    "print(recent_grads.head())\n",
    "print(recent_grads.tail())\n",
    "recent_grads = recent_grads.dropna()"
   ]
  }
 ],
 "metadata": {
  "anaconda-cloud": {},
  "kernelspec": {
   "display_name": "Python [Root]",
   "language": "python",
   "name": "Python [Root]"
  },
  "language_info": {
   "codemirror_mode": {
    "name": "ipython",
    "version": 3
   },
   "file_extension": ".py",
   "mimetype": "text/x-python",
   "name": "python",
   "nbconvert_exporter": "python",
   "pygments_lexer": "ipython3",
   "version": "3.5.2"
  }
 },
 "nbformat": 4,
 "nbformat_minor": 0
}
