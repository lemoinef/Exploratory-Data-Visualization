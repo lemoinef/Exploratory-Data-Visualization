{
 "cells": [
  {
   "cell_type": "markdown",
   "metadata": {},
   "source": [
    "** This is the new version of a project that I did a few months ago. It has been expanded on Dataquest.io in early 2017. **\n",
    "## Geographic Data\n",
    "From scientific fields like meteorology and climatology, through to the software on our smartphones like Google Maps and Facebook check-ins, geographic data is always present in our everyday lives. Raw geographic data like latitudes and longitudes are difficult to understand using the data charts and plots we've discussed so far. To explore this kind of data, you'll need to learn how to visualize the data on maps.\n",
    "\n",
    "In this mission, we'll explore the fundamentals of geographic coordinate systems and how to work with the basemap library to plot geographic data points on maps. We'll be working with flight data from the [openflights website](http://openflights.org/data.html).\n",
    "\n",
    "Here's a breakdown of the files we'll be working with and the most pertinent columns from each dataset:\n",
    "\n",
    "- airlines.csv - data on each airline.\n",
    "\n",
    "    - country - where the airline is headquartered.\n",
    "    - active - if the airline is still active.\n",
    "    \n",
    "- airports.csv - data on each airport.\n",
    "\n",
    "    - name - name of the airport.\n",
    "    - city - city the airport is located.\n",
    "    - country - country the airport is located.\n",
    "    - code - unique airport code.\n",
    "    - latitude - latitude value.\n",
    "    - longitude - longitude value.\n",
    "\n",
    "- routes.csv - data on each flight route.\n",
    "\n",
    "    - airline - airline for the route.\n",
    "    - source - starting city for the route.\n",
    "    - dest - destination city for the route.\n",
    "\n",
    "We can explore a range of interesting questions and ideas using these datasets:\n",
    "\n",
    "- For each airport, which destination airport is the most common?\n",
    "- Which cities are the most important hubs for airports and airlines?"
   ]
  },
  {
   "cell_type": "code",
   "execution_count": 8,
   "metadata": {
    "collapsed": false
   },
   "outputs": [
    {
     "name": "stdout",
     "output_type": "stream",
     "text": [
      "1                                          2\n",
      "Goroka                                Madang\n",
      "Goroka.1                              Madang\n",
      "Papua New Guinea            Papua New Guinea\n",
      "GKA                                      MAG\n",
      "AYGA                                    AYMD\n",
      "-6.081689                           -5.20708\n",
      "145.391881                           145.789\n",
      "5282                                      20\n",
      "10                                        10\n",
      "U                                          U\n",
      "Pacific/Port_Moresby    Pacific/Port_Moresby\n",
      "Name: 0, dtype: object\n",
      "\n",
      "1                             2\n",
      "Private flight      135 Airways\n",
      "\\N                           \\N\n",
      "-                           NaN\n",
      "N/A                         GNL\n",
      "Unnamed: 5              GENERAL\n",
      "Unnamed: 6        United States\n",
      "Y                             N\n",
      "Name: 0, dtype: object\n",
      "\n",
      "2B              2B\n",
      "410            410\n",
      "AER            ASF\n",
      "2965          2966\n",
      "KZN            KZN\n",
      "2990          2990\n",
      "Unnamed: 6     NaN\n",
      "0                0\n",
      "CR2            CR2\n",
      "Name: 0, dtype: object\n"
     ]
    }
   ],
   "source": [
    "import pandas as pd\n",
    "\n",
    "airlines = pd.read_csv('airlines.csv')\n",
    "airports = pd.read_csv('airports.csv')\n",
    "routes  = pd.read_csv('routes.csv')\n",
    "\n",
    "print(airports.iloc[0])\n",
    "print( )\n",
    "print(airlines.iloc[0])\n",
    "print( )\n",
    "print(routes.iloc[0])"
   ]
  },
  {
   "cell_type": "markdown",
   "metadata": {},
   "source": [
    "## Geographic Coordinate Systems\n",
    "A geographic coordinate system allows us to locate any point on Earth using latitude and longitude coordinates.\n",
    "\n",
    "In most cases, we want to visualize latitude and longitude points on two-dimensional maps. Two-dimensional maps are faster to render, easier to view on a computer and distribute, and are more familiar to the experience of popular mapping software like Google Maps. Latitude and longitude values describe points on a sphere, which is three-dimensional. To plot the values on a two-dimensional plane, we need to convert the coordinates to the Cartesian coordinate system using a map projection.\n",
    "\n",
    "A map projection transforms points on a sphere to a two-dimensional plane. When projecting down to the two-dimensional plane, some properties are distorted. Each map projection makes trade-offs in what properties to preserve and you can read about the different trade-offs here. We'll use the Mercator projection, because it is commonly used by popular mapping software."
   ]
  },
  {
   "cell_type": "markdown",
   "metadata": {},
   "source": [
    "## Installing Basemap\n",
    "Before we convert our flight data to Cartesian coordinates and plot it, let's learn more about the basemap toolkit. Basemap is an extension to Matplotlib that makes it easier to work with geographic data. The documentation for basemap provides a good high-level overview of what the library does:\n",
    "\n",
    " - The matplotlib basemap toolkit is a library for plotting 2D data on maps in Python. Basemap does not do any plotting on it’s own, but provides the facilities to transform coordinates to one of 25 different map projections.\n",
    "\n",
    "Basemap makes it easy to convert from the spherical coordinate system (latitudes & longitudes) to the Mercator projection. While basemap uses Matplotlib to actually draw and control the map, the library provides many methods that enable us to work with maps quickly."
   ]
  },
  {
   "cell_type": "markdown",
   "metadata": {},
   "source": [
    "## Workflow With Basemap\n",
    "Here's what the general workflow will look like when working with two-dimensional maps:\n",
    "\n",
    "- Create a new basemap instance with the specific map projection we want to use and how much of the map we want included.\n",
    "- Convert spherical coordinates to Cartesian coordinates using the basemap instance.\n",
    "- Use the matplotlib and basemap methods to customize the map.\n",
    "- Display the map.\n",
    "\n",
    "Let's focus on the first step and create a new basemap instance. To create a new instance of the basemap class, we call the basemap constructor and pass in values for the required parameters:\n",
    "\n",
    "- projection: the map projection.\n",
    "- llcrnrlat: latitude of lower left hand corner of the desired map domain\n",
    "- urcrnrlat: latitude of upper right hand corner of the desired map domain\n",
    "- llcrnrlon: longitude of lower left hand corner of the desired map domain\n",
    "- urcrnrlon: longitude of upper right hand corner of the desired map domain"
   ]
  },
  {
   "cell_type": "code",
   "execution_count": 9,
   "metadata": {
    "collapsed": true
   },
   "outputs": [],
   "source": [
    "import matplotlib.pyplot as plt\n",
    "from mpl_toolkits.basemap import Basemap\n",
    "m = Basemap(projection='merc',llcrnrlat=-80,urcrnrlat=80,llcrnrlon=-180,urcrnrlon=180)"
   ]
  },
  {
   "cell_type": "markdown",
   "metadata": {},
   "source": [
    "## Converting From Spherical To Cartesian Coordinates\n",
    "As we mentioned before, we need to convert latitude and longitude values to Cartesian coordinates to display them on a two-dimensional map. We can pass in a list of latitude and longitude values into the basemap instance and it will return back converted lists of longitude and latitude values using the projection we specified earlier. The constructor only accepts list values, so we'll need to use Series.tolist() to convert the longitude and latitude columns from the airports dataframe to lists. "
   ]
  }
 ],
 "metadata": {
  "anaconda-cloud": {},
  "kernelspec": {
   "display_name": "Python [Root]",
   "language": "python",
   "name": "Python [Root]"
  },
  "language_info": {
   "codemirror_mode": {
    "name": "ipython",
    "version": 3
   },
   "file_extension": ".py",
   "mimetype": "text/x-python",
   "name": "python",
   "nbconvert_exporter": "python",
   "pygments_lexer": "ipython3",
   "version": "3.5.2"
  }
 },
 "nbformat": 4,
 "nbformat_minor": 0
}
